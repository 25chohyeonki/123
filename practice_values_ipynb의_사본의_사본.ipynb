{
  "cells": [
    {
      "cell_type": "markdown",
      "metadata": {
        "id": "view-in-github",
        "colab_type": "text"
      },
      "source": [
        "<a href=\"https://colab.research.google.com/github/25chohyeonki/123/blob/main/practice_values_ipynb%EC%9D%98_%EC%82%AC%EB%B3%B8%EC%9D%98_%EC%82%AC%EB%B3%B8.ipynb\" target=\"_parent\"><img src=\"https://colab.research.google.com/assets/colab-badge.svg\" alt=\"Open In Colab\"/></a>"
      ]
    },
    {
      "cell_type": "markdown",
      "id": "2d03d247-e2d3-4afe-ab5e-83dc989ed62d",
      "metadata": {
        "id": "2d03d247-e2d3-4afe-ab5e-83dc989ed62d"
      },
      "source": [
        "# (연습) 값과 변수"
      ]
    },
    {
      "cell_type": "markdown",
      "id": "01c8fab8",
      "metadata": {
        "id": "01c8fab8"
      },
      "source": [
        "**주의 사항**\n",
        "\n",
        "* 기존에 작성된 코드셀/텍스트셀은 수정하지 않는다.\n",
        "* 필요한 경우 코드셀 또는 텍스트셀을 추가할 수 있다.\n",
        "* 실습 파일을 구글 드라이브에서 링크로 누구가 공유할 수 있도록 설정하세요."
      ]
    },
    {
      "cell_type": "markdown",
      "id": "d172688d",
      "metadata": {
        "id": "d172688d"
      },
      "source": [
        "**문제 1**"
      ]
    },
    {
      "cell_type": "markdown",
      "id": "c080a0aa",
      "metadata": {
        "id": "c080a0aa"
      },
      "source": [
        "아래 코드를 실행했을 때 리스트 `[]`의 의미를 설명하라."
      ]
    },
    {
      "cell_type": "code",
      "execution_count": null,
      "id": "932276af",
      "metadata": {
        "id": "932276af",
        "outputId": "2a3678ef-5b99-4516-faf8-29a74300c2ee",
        "colab": {
          "base_uri": "https://localhost:8080/"
        }
      },
      "outputs": [
        {
          "output_type": "stream",
          "name": "stdout",
          "text": [
            "거짓인 경우라서 실행됨!\n"
          ]
        }
      ],
      "source": [
        "if []:\n",
        "    print(\"참인 경우라서 실행됨!\")\n",
        "else:\n",
        "    print(\"거짓인 경우라서 실행됨!\")"
      ]
    },
    {
      "cell_type": "code",
      "source": [
        "if [1]:\n",
        "  print(\"참인 경우라서 실행됨!\")\n",
        "else:\n",
        "  print(\"거짓인 경우라서 실행됨!\")"
      ],
      "metadata": {
        "colab": {
          "base_uri": "https://localhost:8080/"
        },
        "id": "DjCaqcll3yFl",
        "outputId": "cf5f2605-fc8b-4969-8443-5d4c7d8a62f9"
      },
      "id": "DjCaqcll3yFl",
      "execution_count": null,
      "outputs": [
        {
          "output_type": "stream",
          "name": "stdout",
          "text": [
            "참인 경우라서 실행됨!\n"
          ]
        }
      ]
    },
    {
      "cell_type": "markdown",
      "id": "ef6f3f9b",
      "metadata": {
        "id": "ef6f3f9b"
      },
      "source": [
        "[]가 빈 경우에 코드 실행 시 거짓인 경우를 가리킴.\n",
        "임의의 수 1을 []리스트 안에 넣고 실행했을 때 참인 경우를 가리킴\n",
        "그러므로\n",
        "빈 리스트는 파이썬에서 거짓을 가리킴"
      ]
    },
    {
      "cell_type": "markdown",
      "id": "fff0bafd",
      "metadata": {
        "id": "fff0bafd"
      },
      "source": [
        "**문제 2**"
      ]
    },
    {
      "cell_type": "markdown",
      "id": "b651f816",
      "metadata": {
        "id": "b651f816"
      },
      "source": [
        "다음 두 수식이 동일한 값으로 계산되는 이유를 연산자 우선순위 개념을 이용하여 설명하라."
      ]
    },
    {
      "cell_type": "code",
      "execution_count": null,
      "id": "7572fcbf",
      "metadata": {
        "id": "7572fcbf",
        "colab": {
          "base_uri": "https://localhost:8080/"
        },
        "outputId": "cef75f0c-0157-42f3-b2d9-40f83e3750ea"
      },
      "outputs": [
        {
          "output_type": "execute_result",
          "data": {
            "text/plain": [
              "1.6"
            ]
          },
          "metadata": {},
          "execution_count": 2
        }
      ],
      "source": [
        "2**3 / (2 + 3)"
      ]
    },
    {
      "cell_type": "code",
      "execution_count": null,
      "id": "fd2d1a2f",
      "metadata": {
        "id": "fd2d1a2f",
        "colab": {
          "base_uri": "https://localhost:8080/"
        },
        "outputId": "9bde455a-fff9-40aa-dcab-d65089f7e6e4"
      },
      "outputs": [
        {
          "output_type": "execute_result",
          "data": {
            "text/plain": [
              "1.6"
            ]
          },
          "metadata": {},
          "execution_count": 3
        }
      ],
      "source": [
        "(2**3) / (2 + 3)"
      ]
    },
    {
      "cell_type": "markdown",
      "id": "78fe1d6f",
      "metadata": {
        "id": "78fe1d6f"
      },
      "source": [
        "1번 째 2**3 / (2 + 3)\n",
        "괄호안의 식이 제일 먼저 계산이 되고 2**3 / 5\n",
        "그 후 거듭제곱이 계산이 된 후 8 / 5 마지막으로 나눗셈이 나뉘어 지는 순서이다 1.6\n",
        "2번 째도 동일하다 () 괄호 안 식 부터 계산이 되어 8 / 5\n",
        "마지막 / 나누기가 되어 동일한 값 1.6이 계산이 된다"
      ]
    },
    {
      "cell_type": "markdown",
      "id": "7783bf66",
      "metadata": {
        "id": "7783bf66"
      },
      "source": [
        "**문제 3**"
      ]
    },
    {
      "cell_type": "markdown",
      "id": "5fba797e",
      "metadata": {
        "id": "5fba797e"
      },
      "source": [
        "(1) 아래 내용의 논리식을 할당받는 변수 `p1`을 선언한 후에 `p1`에 할당된 진리값을 확인하라.\n",
        "\n",
        "> 5가 7보다 크거나 같은지 여부 판단"
      ]
    },
    {
      "cell_type": "code",
      "execution_count": null,
      "id": "70958989",
      "metadata": {
        "id": "70958989",
        "colab": {
          "base_uri": "https://localhost:8080/"
        },
        "outputId": "afaead59-f3c6-40bd-9c83-d8012b11556e"
      },
      "outputs": [
        {
          "output_type": "stream",
          "name": "stdout",
          "text": [
            "False\n"
          ]
        }
      ],
      "source": [
        "p1= 5 >= 7\n",
        "print(p1)"
      ]
    },
    {
      "cell_type": "markdown",
      "source": [],
      "metadata": {
        "id": "XfKjgObSPgre"
      },
      "id": "XfKjgObSPgre"
    },
    {
      "cell_type": "markdown",
      "id": "3df2ba3f",
      "metadata": {
        "id": "3df2ba3f"
      },
      "source": [
        "(2) 아래 내용의 논리식을 할당받는 변수 `p2`를 선언한 후에 `p2`에 할당된 진리값을 확인하라.\n",
        "\n",
        "> \"Hello\"가 \"hello\" 보다 작은지 여부 판단\n",
        "\n",
        "참고: 두 문자열 사이의 크기비교가 가능하다. 알파벳 순서로 하며 대문자가 소문자보다 작다고 판단된다."
      ]
    },
    {
      "cell_type": "code",
      "execution_count": null,
      "id": "c4f90201",
      "metadata": {
        "id": "c4f90201",
        "colab": {
          "base_uri": "https://localhost:8080/"
        },
        "outputId": "f07ad4a4-b20c-4dcf-c906-9a56d4df8f43"
      },
      "outputs": [
        {
          "output_type": "stream",
          "name": "stdout",
          "text": [
            "True\n"
          ]
        }
      ],
      "source": [
        "p2= \"Hello\" < \"hello\"\n",
        "print(p2)"
      ]
    },
    {
      "cell_type": "markdown",
      "id": "00a34ae7",
      "metadata": {
        "id": "00a34ae7"
      },
      "source": [
        "**문제 4**"
      ]
    },
    {
      "cell_type": "markdown",
      "id": "4c51581d",
      "metadata": {
        "id": "4c51581d"
      },
      "source": [
        "변수 `x`에 정수 17을 할당했을 때\n",
        "변수 `x`가 가리키는 값이 짝수면 0을,\n",
        "홀수면 1을 출력하는 코드를 `if ... else ...` 조건문을 이용하여 작성하라."
      ]
    },
    {
      "cell_type": "code",
      "execution_count": null,
      "id": "71c9239d",
      "metadata": {
        "id": "71c9239d",
        "colab": {
          "base_uri": "https://localhost:8080/"
        },
        "outputId": "57798e1e-7f01-427f-f59f-6b5c8598d64a"
      },
      "outputs": [
        {
          "output_type": "stream",
          "name": "stdout",
          "text": [
            "1\n"
          ]
        }
      ],
      "source": [
        "x = 17\n",
        "if x % 2 == 0:\n",
        "    print(0)\n",
        "else:\n",
        "    print(1)"
      ]
    },
    {
      "cell_type": "markdown",
      "id": "7a6cc55a",
      "metadata": {
        "id": "7a6cc55a"
      },
      "source": [
        "**문제 5**"
      ]
    },
    {
      "cell_type": "markdown",
      "id": "2b27714d",
      "metadata": {
        "id": "2b27714d"
      },
      "source": [
        "변수 `greetings`는 아래 문자열을 가리킨다."
      ]
    },
    {
      "cell_type": "code",
      "execution_count": null,
      "id": "fa154e13",
      "metadata": {
        "id": "fa154e13"
      },
      "outputs": [],
      "source": [
        "greetings = '파이썬, 안녕!'"
      ]
    },
    {
      "cell_type": "markdown",
      "id": "9066bf3e",
      "metadata": {
        "id": "9066bf3e"
      },
      "source": [
        "변수 `char`가 가리키는 문자열이 `greetings`가 가리키는 문자열에  포함되어 있는 경우에는\n",
        "'파이썬 너무 좋아!!!' 문장을 출력하고,\n",
        "아니면 '파이썬을 부탁해^^' 라는 문장을 출력하는 코드를 작성한다."
      ]
    },
    {
      "cell_type": "code",
      "execution_count": null,
      "id": "76f89dc2",
      "metadata": {
        "id": "76f89dc2",
        "colab": {
          "base_uri": "https://localhost:8080/"
        },
        "outputId": "c2256ac7-8861-49c5-bc2e-0e37c82db5bc"
      },
      "outputs": [
        {
          "output_type": "stream",
          "name": "stdout",
          "text": [
            "파이썬 너무 좋아!!!\n"
          ]
        }
      ],
      "source": [
        "char = '파이썬'\n",
        "greetings = '파이썬, 안녕!'\n",
        "if char in greetings:\n",
        "  print(\"파이썬 너무 좋아!!!\")\n",
        "else:\n",
        "  print(\"파이썬을 부탁해^^\")"
      ]
    },
    {
      "cell_type": "markdown",
      "id": "3012281a",
      "metadata": {
        "id": "3012281a"
      },
      "source": [
        "**문제 6**"
      ]
    },
    {
      "cell_type": "markdown",
      "id": "1ca39f18",
      "metadata": {
        "id": "1ca39f18"
      },
      "source": [
        "변수 `num_list`가 다음과 같이 선언된다."
      ]
    },
    {
      "cell_type": "code",
      "execution_count": null,
      "id": "7f3b877a",
      "metadata": {
        "id": "7f3b877a"
      },
      "outputs": [],
      "source": [
        "num_list = [3, 6, 9, 12, 15, 18, 21]"
      ]
    },
    {
      "cell_type": "markdown",
      "id": "83ee6ceb",
      "metadata": {
        "id": "83ee6ceb"
      },
      "source": [
        "(1) 리스트에 포함된 `9`를 확인하는 인덱싱을 표현하는 수식을 정의하라."
      ]
    },
    {
      "cell_type": "code",
      "execution_count": null,
      "id": "e4806141",
      "metadata": {
        "id": "e4806141",
        "colab": {
          "base_uri": "https://localhost:8080/"
        },
        "outputId": "77c22065-1969-4d70-f6bb-0f741cd31372"
      },
      "outputs": [
        {
          "output_type": "execute_result",
          "data": {
            "text/plain": [
              "9"
            ]
          },
          "metadata": {},
          "execution_count": 30
        }
      ],
      "source": [
        "num_list[2]"
      ]
    },
    {
      "cell_type": "markdown",
      "id": "abb86c6b",
      "metadata": {
        "id": "abb86c6b"
      },
      "source": [
        "(2) 리스트에 포함된 `18`을 확인하는 인덱싱을 표현하는 수식을 정의하라."
      ]
    },
    {
      "cell_type": "code",
      "execution_count": null,
      "id": "d5c27848",
      "metadata": {
        "id": "d5c27848",
        "colab": {
          "base_uri": "https://localhost:8080/"
        },
        "outputId": "c7e6126d-aa9a-466f-be9d-b5ee7a88edad"
      },
      "outputs": [
        {
          "output_type": "execute_result",
          "data": {
            "text/plain": [
              "18"
            ]
          },
          "metadata": {},
          "execution_count": 31
        }
      ],
      "source": [
        "num_list[5]"
      ]
    },
    {
      "cell_type": "markdown",
      "id": "ec8b925e",
      "metadata": {
        "id": "ec8b925e"
      },
      "source": [
        "**문제 7**"
      ]
    },
    {
      "cell_type": "markdown",
      "id": "08314815",
      "metadata": {
        "id": "08314815"
      },
      "source": [
        "100만원을 복리로 연이자 5%인 예금에 3년간 은행에 맡겼을 때\n",
        "3년 후에 수령할 금액을 계산하는 코드를 다양한 변수를 활용하여 구현하라.\n",
        "단, 다음 형식으로 출력한다.\n",
        "\n",
        "> 3년 후 받을 원금 + 이자는 OOO 원입니다."
      ]
    },
    {
      "cell_type": "markdown",
      "id": "257201ca",
      "metadata": {
        "id": "257201ca"
      },
      "source": [
        "복리계산은 아래 식을 따른다."
      ]
    },
    {
      "cell_type": "markdown",
      "id": "e1ccfb42",
      "metadata": {
        "id": "e1ccfb42"
      },
      "source": [
        "> 원리합계 ＝ 원금 * (1 ＋ 연금리/일년에 이자받는횟수) ** (일년에 이자받는횟수 * 기간)"
      ]
    },
    {
      "cell_type": "markdown",
      "id": "2c678a1e",
      "metadata": {
        "id": "2c678a1e"
      },
      "source": [
        "복리 개념과 계산법에 대해서는 아래 링크를 참고한다.\n",
        "\n",
        "- [복리 개념과 계산법](https://a2-finance.com/ko/calculators/%EB%AA%A8%EB%93%A0-%EA%B3%84%EC%82%B0%EA%B8%B0/%EB%B3%B5%EB%A6%AC-%EA%B3%84%EC%82%B0%EA%B8%B0)"
      ]
    },
    {
      "cell_type": "markdown",
      "id": "3116b83f",
      "metadata": {
        "id": "3116b83f"
      },
      "source": [
        "아래 변수를 활용한다.\n",
        "\n",
        "- principal = 원금\n",
        "- rate = 연이자율\n",
        "- period = 저축기간(년)\n",
        "- savings = 원리합계"
      ]
    },
    {
      "cell_type": "code",
      "execution_count": 1,
      "id": "5d6f2a97",
      "metadata": {
        "id": "5d6f2a97",
        "colab": {
          "base_uri": "https://localhost:8080/"
        },
        "outputId": "41ad58ce-f81b-4218-a02a-bde6a1086b70"
      },
      "outputs": [
        {
          "output_type": "stream",
          "name": "stdout",
          "text": [
            "3년 후 받을 원금의 + 이자는 1157625.0000000002원입니다\n"
          ]
        }
      ],
      "source": [
        "principal = 1_000_000\n",
        "rate = 0.05\n",
        "period = 3\n",
        "savings = principal *(1+rate)**(period)\n",
        "print(f\"3년 후 받을 원금의 + 이자는 {savings}원입니다\")"
      ]
    }
  ],
  "metadata": {
    "kernelspec": {
      "display_name": "Python 3 (ipykernel)",
      "language": "python",
      "name": "python3"
    },
    "language_info": {
      "codemirror_mode": {
        "name": "ipython",
        "version": 3
      },
      "file_extension": ".py",
      "mimetype": "text/x-python",
      "name": "python",
      "nbconvert_exporter": "python",
      "pygments_lexer": "ipython3",
      "version": "3.12.2"
    },
    "toc-autonumbering": true,
    "toc-showcode": false,
    "toc-showmarkdowntxt": false,
    "colab": {
      "provenance": [],
      "include_colab_link": true
    }
  },
  "nbformat": 4,
  "nbformat_minor": 5
}